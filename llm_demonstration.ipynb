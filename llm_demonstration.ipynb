{
 "cells": [
  {
   "cell_type": "code",
   "execution_count": 3,
   "id": "63a27f84",
   "metadata": {},
   "outputs": [
    {
     "name": "stdout",
     "output_type": "stream",
     "text": [
      "Quantum computing is a type of computing technology that uses the principles of quantum mechanics, which is a subfield of physics that describes the behaviors of particles at the microscopic level. \n",
      "\n",
      "In classical computing, we use bits (binary digits) as the smallest unit of data, which can either be a 0 or 1. But in quantum computing, we use what are called \"quantum bits\" or \"qubits.\" Unlike bits, qubits can exist in a state of 0, 1 or both at the same time due to a quantum property known as superposition. \n",
      "\n",
      "Another important principle in quantum computing is entanglement, which allows qubits that are entangled to be linked together such that the state of one qubit can instantaneously affect the state of another, no matter how far apart they are.\n",
      "\n",
      "Because of these properties, quantum computers are potentially vastly more powerful than classical computers. They can process a huge number of possibilities all at once and could theoretically solve certain problems much faster than any classical computer ever could.\n"
     ]
    }
   ],
   "source": [
    "import os\n",
    "from langchain_openai import ChatOpenAI\n",
    "from dotenv import load_dotenv\n",
    "\n",
    "load_dotenv()\n",
    "\n",
    "api_key = os.getenv(\"OPENAI_API_KEY\")\n",
    "llm = ChatOpenAI(model=\"gpt-4\", api_key=api_key)\n",
    "response = llm.invoke(\"Explain quantum computing in simple terms\")\n",
    "print(response.content)\n"
   ]
  },
  {
   "cell_type": "code",
   "execution_count": 4,
   "id": "2a1d05ed",
   "metadata": {},
   "outputs": [
    {
     "name": "stdout",
     "output_type": "stream",
     "text": [
      "Quantum computing! It's a mind-blowing concept that can be tricky to grasp, but I'll try to break it down in simple terms.\n",
      "\n",
      "**What is classical computing?**\n",
      "First, let's start with the familiar. Classical computers use \"bits\" to process information. Bits are either 0 or 1, like two buttons on your phone - one for yes and one for no. These bits follow deterministic rules, meaning that if you know the input, you can predict the output.\n",
      "\n",
      "**What is quantum computing?**\n",
      "Quantum computing uses \"qubits\" (quantum bits) instead of classical bits. Qubits are special because they can exist in multiple states at the same time, like being both 0 and 1 simultaneously! This property allows qubits to perform many calculations simultaneously, which is called a \"superposition.\"\n",
      "\n",
      "**How do qubits work?**\n",
      "Imagine you have a coin that can be either heads or tails. A classical bit would be either one or the other. But with a qubit, it's like having a special coin that can be both heads and tails at the same time! This means a qubit can process many possible outcomes simultaneously, making calculations much faster.\n",
      "\n",
      "**Quantum entanglement**\n",
      "Another key concept in quantum computing is \"entanglement.\" Imagine two toy cars connected by a spring. If you push one car, the other will move too, even if they're on opposite sides of the room. Qubits can be \"entangled\" like these toy cars, allowing them to communicate with each other instantly, no matter how far apart they are.\n",
      "\n",
      "**Quantum computing in simple terms:**\n",
      "To summarize:\n",
      "\n",
      "1. Classical computers use bits (0 or 1).\n",
      "2. Quantum computers use qubits, which can exist in multiple states at once.\n",
      "3. Qubits can process many calculations simultaneously due to superposition.\n",
      "4. Entanglement allows qubits to communicate with each other instantly.\n",
      "\n",
      "**Why is quantum computing important?**\n",
      "Quantum computing has the potential to solve complex problems that are too difficult or time-consuming for classical computers, such as:\n",
      "\n",
      "* Breaking certain types of encryption\n",
      "* Simulating complex systems (e.g., chemical reactions)\n",
      "* Optimizing complex processes (e.g., supply chain management)\n",
      "\n",
      "While we're still in the early stages of developing quantum computing technology, it has the potential to revolutionize many fields and industries.\n"
     ]
    }
   ],
   "source": [
    "from langchain_ollama import OllamaLLM\n",
    "\n",
    "# Connect to our local Ollama instance\n",
    "llm = OllamaLLM(model=\"llama3\")\n",
    "\n",
    "# Give it a spin!\n",
    "response = llm.invoke(\"Explain quantum computing in simple terms\")\n",
    "print(response)"
   ]
  }
 ],
 "metadata": {
  "kernelspec": {
   "display_name": "venv",
   "language": "python",
   "name": "python3"
  },
  "language_info": {
   "codemirror_mode": {
    "name": "ipython",
    "version": 3
   },
   "file_extension": ".py",
   "mimetype": "text/x-python",
   "name": "python",
   "nbconvert_exporter": "python",
   "pygments_lexer": "ipython3",
   "version": "3.11.5"
  }
 },
 "nbformat": 4,
 "nbformat_minor": 5
}
