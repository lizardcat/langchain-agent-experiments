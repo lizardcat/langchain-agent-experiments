{
 "cells": [
  {
   "cell_type": "code",
   "execution_count": 2,
   "id": "03120a62",
   "metadata": {},
   "outputs": [
    {
     "data": {
      "text/html": [
       "<style>.output_area pre {white-space: pre-wrap; word-wrap: break-word;}</style>"
      ],
      "text/plain": [
       "<IPython.core.display.HTML object>"
      ]
     },
     "metadata": {},
     "output_type": "display_data"
    }
   ],
   "source": [
    "from IPython.display import display, HTML\n",
    "\n",
    "display(HTML(\"<style>.output_area pre {white-space: pre-wrap; word-wrap: break-word;}</style>\"))\n"
   ]
  },
  {
   "cell_type": "code",
   "execution_count": 5,
   "id": "63a27f84",
   "metadata": {},
   "outputs": [
    {
     "name": "stdout",
     "output_type": "stream",
     "text": [
      "Quantum computing is a different type of computing that uses quantum bits, or qubits, to process information, instead of the usual bits used in conventional or digital computing. \n",
      "\n",
      "In conventional computing, a bit is like a small switch that can be either on or off, representing a 0 or a 1. All the data, from images to text documents, are encoded using combinations of these 0s and 1s.\n",
      "\n",
      "In quantum computing, a qubit can be both 0 and 1 at the same time, thanks to a quantum property called superposition. Another property, called entanglement, lets one qubit impact the state of another, no matter how far apart they are, which helps with faster processing. \n",
      "\n",
      "This ability to process multiple things simultaneously gives quantum computers the potential to solve complex problems much faster than conventional computers. For instance, they could handle complex simulations, speed up database searches, or crack most encryption codes.\n",
      "  \n",
      "However, quantum computing is still in early stages of development, and it might take years to make them practical for everyday use. These computers are also quite sensitive to changes in temperature or magnetism, which makes their operation quite challenging.\n"
     ]
    }
   ],
   "source": [
    "import os\n",
    "from langchain_openai import ChatOpenAI\n",
    "from dotenv import load_dotenv\n",
    "\n",
    "load_dotenv()\n",
    "\n",
    "api_key = os.getenv(\"OPENAI_API_KEY\")\n",
    "llm = ChatOpenAI(model=\"gpt-4\", api_key=api_key)\n",
    "response = llm.invoke(\"Explain quantum computing in simple terms\")\n",
    "print(response.content)\n"
   ]
  },
  {
   "cell_type": "code",
   "execution_count": 7,
   "id": "2a1d05ed",
   "metadata": {},
   "outputs": [
    {
     "name": "stdout",
     "output_type": "stream",
     "text": [
      "Quantum computing! It's a fascinating topic that can be complex, but I'll try to break it down in simple terms.\n",
      "\n",
      "**Classical Computing**\n",
      "\n",
      "First, let's start with classical computing. You know how computers process information using 0s and 1s (bits)? That's because they use \"classical\" bits, which are either 0 or 1 at any given time.\n",
      "\n",
      "**Quantum Computing**\n",
      "\n",
      "Quantum computing is different. It uses something called quantum bits, or qubits. Qubits are special because they can exist in multiple states simultaneously, like both 0 and 1 at the same time! This property allows qubits to process vast amounts of information much faster than classical computers.\n",
      "\n",
      "Here's a simple analogy:\n",
      "\n",
      "Think of a coin that can be either heads (0) or tails (1). In classical computing, it's like flipping a regular coin: it's either one or the other. But in quantum computing, it's like having a special coin that can exist in both heads AND tails simultaneously! This means a qubit can process multiple possibilities at once, which is incredibly powerful.\n",
      "\n",
      "**How Quantum Computing Works**\n",
      "\n",
      "Quantum computers use a combination of math and physics to manipulate these qubits. Here are the key steps:\n",
      "\n",
      "1. **Qubits**: Create multiple qubits, each with its own superposition (existing in multiple states).\n",
      "2. **Quantum Gates**: Apply specific quantum \"gates\" to manipulate the qubits. These gates perform operations like addition, multiplication, or measurement.\n",
      "3. **Entanglement**: Connect qubits together using entanglement, which allows them to interact and affect each other.\n",
      "4. **Measurement**: Measure the state of the qubits to get the result.\n",
      "\n",
      "**Why Quantum Computing is Important**\n",
      "\n",
      "Quantum computing has many potential applications:\n",
      "\n",
      "1. **Cryptography**: Breakthroughs in cryptography can lead to more secure online transactions.\n",
      "2. **Optimization**: Solve complex optimization problems, like finding the shortest path between cities.\n",
      "3. **Simulation**: Simulate complex systems, like molecules or weather patterns, more accurately.\n",
      "4. **Machine Learning**: Improve AI and machine learning algorithms by processing vast amounts of data.\n",
      "\n",
      "**In Simple Terms**\n",
      "\n",
      "Quantum computing is a new way to process information using special \"qubits\" that can exist in multiple states simultaneously. This allows quantum computers to solve complex problems much faster than classical computers. It's like having a superpowered calculator that can do many calculations at once!\n",
      "\n",
      "Keep in mind that this is just an introduction, and there's still much to learn about the intricacies of quantum computing. However, I hope this gives you a good starting point for exploring this fascinating field!\n"
     ]
    }
   ],
   "source": [
    "from langchain_ollama import OllamaLLM\n",
    "\n",
    "# Connect to our local Ollama instance\n",
    "llm = OllamaLLM(model=\"llama3\")\n",
    "\n",
    "# Give it a spin!\n",
    "response = llm.invoke(\"Explain quantum computing in simple terms\")\n",
    "print(response)"
   ]
  }
 ],
 "metadata": {
  "kernelspec": {
   "display_name": "venv",
   "language": "python",
   "name": "python3"
  },
  "language_info": {
   "codemirror_mode": {
    "name": "ipython",
    "version": 3
   },
   "file_extension": ".py",
   "mimetype": "text/x-python",
   "name": "python",
   "nbconvert_exporter": "python",
   "pygments_lexer": "ipython3",
   "version": "3.11.5"
  }
 },
 "nbformat": 4,
 "nbformat_minor": 5
}
